{
  "nbformat": 4,
  "nbformat_minor": 0,
  "metadata": {
    "colab": {
      "provenance": [],
      "authorship_tag": "ABX9TyNNAJTTFnXNn3JyThlRY7Bg",
      "include_colab_link": true
    },
    "kernelspec": {
      "name": "python3",
      "display_name": "Python 3"
    },
    "language_info": {
      "name": "python"
    }
  },
  "cells": [
    {
      "cell_type": "markdown",
      "metadata": {
        "id": "view-in-github",
        "colab_type": "text"
      },
      "source": [
        "<a href=\"https://colab.research.google.com/github/patrickguevara23/Amigo-secreto/blob/main/Projeto_Diabetes.ipynb\" target=\"_parent\"><img src=\"https://colab.research.google.com/assets/colab-badge.svg\" alt=\"Open In Colab\"/></a>"
      ]
    },
    {
      "cell_type": "markdown",
      "source": [
        "Dataset"
      ],
      "metadata": {
        "id": "n9s9u9DSdbrg"
      }
    },
    {
      "cell_type": "markdown",
      "source": [
        "https://www.kaggle.com/datasets/tigganeha4/diabetes-dataset-2019"
      ],
      "metadata": {
        "id": "JqQki2y3-HDd"
      }
    },
    {
      "cell_type": "markdown",
      "source": [
        "Imports"
      ],
      "metadata": {
        "id": "sclY1shKoJLL"
      }
    },
    {
      "cell_type": "code",
      "execution_count": 1,
      "metadata": {
        "id": "FvYrbd5Mn2J5"
      },
      "outputs": [],
      "source": [
        "import pandas as pd\n",
        "import plotly.express as px\n",
        "from scipy.stats import pearsonr\n",
        "import seaborn as sns\n",
        "import statsmodels.api as sm\n",
        "from sklearn.compose import make_column_transformer\n",
        "from sklearn.preprocessing import OneHotEncoder\n",
        "from sklearn.model_selection import train_test_split\n",
        "from sklearn.dummy import DummyClassifier\n",
        "from sklearn.tree import DecisionTreeClassifier\n",
        "from sklearn.preprocessing import MinMaxScaler\n",
        "from sklearn.neighbors import KNeighborsClassifier\n",
        "from sklearn.model_selection import cross_validate\n",
        "import numpy as np\n",
        "from sklearn.svm import SVC\n",
        "from sklearn.metrics import accuracy_score\n",
        "from sklearn.preprocessing import StandardScaler"
      ]
    },
    {
      "cell_type": "markdown",
      "source": [
        "Leitura e Tratamento dos Dados"
      ],
      "metadata": {
        "id": "TjMWzF3yov3d"
      }
    },
    {
      "cell_type": "code",
      "source": [
        "#Leitura do arquivo com Pandas e salvando o conteúdo do dataset em uma variável\n",
        "df = pd.read_csv('/content/diabetes_dataset__2019.csv')\n",
        "\n",
        "#Renomeando as colunas para o português\n",
        "df = df.rename(columns={\n",
        "    'Age': 'Idade',\n",
        "    'Gender': 'Sexo',\n",
        "    'Family_Diabetes': 'Diabetes_familiar',\n",
        "    'highBP': 'Pressão_alta',\n",
        "    'PhysicallyActive': 'Ativo_fisicamente',\n",
        "    'BMI': 'IMC',\n",
        "    'Smoking': 'Fumante',\n",
        "    'Alcohol': 'Ingere_alcool',\n",
        "    'Sleep': 'Horas_sono',\n",
        "    'SoundSleep': 'Sono_tranquilo',\n",
        "    'RegularMedicine': 'Medicamentos_regulares',\n",
        "    'BPLevel': 'Nível_pressão_sanguínea',\n",
        "    'Pregancies': 'Gradivez',\n",
        "    'Pdiabetes': 'Pre_diabetes',\n",
        "    'UriationFreq': 'Frequência_urinária',\n",
        "    'Diabetic': 'Diabetes',\n",
        "})\n",
        "\n",
        "#Checando se existem dados nulos ou inconsistentes\n",
        "print(df.info())\n",
        "\n",
        "#Identificando e tratando dados duplicados\n",
        "print('O conjunto apresenta uma quantidade de',df.duplicated().sum(),'dados duplicados')\n",
        "#Aplicando um filtro para remover os dados duplicados\n",
        "filtro_duplicados = df.duplicated()\n",
        "df[filtro_duplicados]\n",
        "df.drop_duplicates(inplace = True)\n",
        "print('O conjunto apresenta uma quantidade de',df.duplicated().sum(),'dados duplicados')\n",
        "\n",
        "#Identificando e tratando dados nulos\n",
        "df.loc[(df['Sexo'] == 'Male') & (df['Gradivez'].isna()),'Gradivez'] = 0 #Substituir valores nulos na coluna 'Gradivez' por 0 exclusivamente para linhas onde o sexo é masculino\n",
        "print('O conjunto apresenta um total de', df.isna().sum().sum(), 'valores ausentes') #Contar o número total de valores ausentes (NaN) em todo o DataFrame df\n",
        "df[df.isna().any(axis = 1)] #Identificar e selecionar as linhas do DataFrame df que contêm pelo menos um valor ausente (NaN).\n",
        "colunas_dropar = ['IMC','Gradivez','Pre_diabetes','Diabetes']\n",
        "df_sem_nulos = df.dropna(subset = colunas_dropar ).copy() #Remover as linhas onde possuem valores ausentes e criar uma cópia do DataFrame\n",
        "df_sem_nulos.reset_index(drop = True, inplace = True) #Resetando o índice do dataframe\n",
        "print('O conjunto apresenta uma quantidade de',df_sem_nulos.isna().sum().sum(),'valores ausentes')#Verificando se ainda existem valores ausentes (NaN)\n",
        "\n",
        "#Checando se todos os valores ausentes, nulos e/ou inconsistentes foram tratados\n",
        "print(df_sem_nulos.info())\n",
        "\n",
        "\n",
        "\n",
        "\n",
        "\n"
      ],
      "metadata": {
        "colab": {
          "base_uri": "https://localhost:8080/"
        },
        "id": "jZGYWBzWoLIs",
        "outputId": "0545a041-385b-4737-dc2c-132c061e6f3f"
      },
      "execution_count": 2,
      "outputs": [
        {
          "output_type": "stream",
          "name": "stdout",
          "text": [
            "<class 'pandas.core.frame.DataFrame'>\n",
            "RangeIndex: 952 entries, 0 to 951\n",
            "Data columns (total 18 columns):\n",
            " #   Column                   Non-Null Count  Dtype  \n",
            "---  ------                   --------------  -----  \n",
            " 0   Idade                    952 non-null    object \n",
            " 1   Sexo                     952 non-null    object \n",
            " 2   Diabetes_familiar        952 non-null    object \n",
            " 3   Pressão_alta             952 non-null    object \n",
            " 4   Ativo_fisicamente        952 non-null    object \n",
            " 5   IMC                      948 non-null    float64\n",
            " 6   Fumante                  952 non-null    object \n",
            " 7   Ingere_alcool            952 non-null    object \n",
            " 8   Horas_sono               952 non-null    int64  \n",
            " 9   Sono_tranquilo           952 non-null    int64  \n",
            " 10  Medicamentos_regulares   952 non-null    object \n",
            " 11  JunkFood                 952 non-null    object \n",
            " 12  Stress                   952 non-null    object \n",
            " 13  Nível_pressão_sanguínea  952 non-null    object \n",
            " 14  Gradivez                 910 non-null    float64\n",
            " 15  Pre_diabetes             951 non-null    object \n",
            " 16  Frequência_urinária      952 non-null    object \n",
            " 17  Diabetes                 951 non-null    object \n",
            "dtypes: float64(2), int64(2), object(14)\n",
            "memory usage: 134.0+ KB\n",
            "None\n",
            "O conjunto apresenta uma quantidade de 622 dados duplicados\n",
            "O conjunto apresenta uma quantidade de 0 dados duplicados\n",
            "O conjunto apresenta um total de 32 valores ausentes\n",
            "O conjunto apresenta uma quantidade de 0 valores ausentes\n",
            "<class 'pandas.core.frame.DataFrame'>\n",
            "RangeIndex: 299 entries, 0 to 298\n",
            "Data columns (total 18 columns):\n",
            " #   Column                   Non-Null Count  Dtype  \n",
            "---  ------                   --------------  -----  \n",
            " 0   Idade                    299 non-null    object \n",
            " 1   Sexo                     299 non-null    object \n",
            " 2   Diabetes_familiar        299 non-null    object \n",
            " 3   Pressão_alta             299 non-null    object \n",
            " 4   Ativo_fisicamente        299 non-null    object \n",
            " 5   IMC                      299 non-null    float64\n",
            " 6   Fumante                  299 non-null    object \n",
            " 7   Ingere_alcool            299 non-null    object \n",
            " 8   Horas_sono               299 non-null    int64  \n",
            " 9   Sono_tranquilo           299 non-null    int64  \n",
            " 10  Medicamentos_regulares   299 non-null    object \n",
            " 11  JunkFood                 299 non-null    object \n",
            " 12  Stress                   299 non-null    object \n",
            " 13  Nível_pressão_sanguínea  299 non-null    object \n",
            " 14  Gradivez                 299 non-null    float64\n",
            " 15  Pre_diabetes             299 non-null    object \n",
            " 16  Frequência_urinária      299 non-null    object \n",
            " 17  Diabetes                 299 non-null    object \n",
            "dtypes: float64(2), int64(2), object(14)\n",
            "memory usage: 42.2+ KB\n",
            "None\n"
          ]
        }
      ]
    },
    {
      "cell_type": "markdown",
      "source": [
        "Tratando as Variáveis Categóricas"
      ],
      "metadata": {
        "id": "3LzwIUeLzwtb"
      }
    },
    {
      "cell_type": "markdown",
      "source": [
        "#Tratando as variáveis categóricas"
      ],
      "metadata": {
        "id": "snx4G6rkpMdU"
      }
    },
    {
      "cell_type": "code",
      "source": [
        "#Verificando os valores únicos de todas as colunas\n",
        "for col in df_sem_nulos.columns:\n",
        "    print(f\"Coluna: {col}\")\n",
        "    print(df_sem_nulos[col].unique())\n",
        "    print(\"-\" * 30)"
      ],
      "metadata": {
        "colab": {
          "base_uri": "https://localhost:8080/"
        },
        "id": "cD5ZVyoFpSG3",
        "outputId": "93bb20fd-ede1-473c-d58c-9e9c221d1b93"
      },
      "execution_count": 3,
      "outputs": [
        {
          "output_type": "stream",
          "name": "stdout",
          "text": [
            "Coluna: Idade\n",
            "['50-59' '40-49' 'less than 40' '60 or older']\n",
            "------------------------------\n",
            "Coluna: Sexo\n",
            "['Male' 'Female']\n",
            "------------------------------\n",
            "Coluna: Diabetes_familiar\n",
            "['no' 'yes']\n",
            "------------------------------\n",
            "Coluna: Pressão_alta\n",
            "['yes' 'no']\n",
            "------------------------------\n",
            "Coluna: Ativo_fisicamente\n",
            "['one hr or more' 'less than half an hr' 'none' 'more than half an hr']\n",
            "------------------------------\n",
            "Coluna: IMC\n",
            "[39. 28. 24. 23. 27. 21. 20. 26. 22. 15. 34. 30. 29. 18. 32. 31. 36. 38.\n",
            " 40. 35. 19. 33. 17. 25. 42. 45.]\n",
            "------------------------------\n",
            "Coluna: Fumante\n",
            "['no' 'yes']\n",
            "------------------------------\n",
            "Coluna: Ingere_alcool\n",
            "['no' 'yes']\n",
            "------------------------------\n",
            "Coluna: Horas_sono\n",
            "[ 8  6 10  7 11  9  4  5]\n",
            "------------------------------\n",
            "Coluna: Sono_tranquilo\n",
            "[ 6  8 10  7 11  4  9  5  3  2  1  0]\n",
            "------------------------------\n",
            "Coluna: Medicamentos_regulares\n",
            "['no' 'yes' 'o']\n",
            "------------------------------\n",
            "Coluna: JunkFood\n",
            "['occasionally' 'very often' 'often' 'always']\n",
            "------------------------------\n",
            "Coluna: Stress\n",
            "['sometimes' 'not at all' 'very often' 'always']\n",
            "------------------------------\n",
            "Coluna: Nível_pressão_sanguínea\n",
            "['high' 'normal' 'low' 'Low' 'High' 'normal ']\n",
            "------------------------------\n",
            "Coluna: Gradivez\n",
            "[0. 1. 2. 3. 4.]\n",
            "------------------------------\n",
            "Coluna: Pre_diabetes\n",
            "['0' 'yes']\n",
            "------------------------------\n",
            "Coluna: Frequência_urinária\n",
            "['not much' 'quite often']\n",
            "------------------------------\n",
            "Coluna: Diabetes\n",
            "['no' 'yes' ' no']\n",
            "------------------------------\n"
          ]
        }
      ]
    },
    {
      "cell_type": "code",
      "source": [
        "#Substituir valores em colunas específicas com base no dicionário 'colunas'.\n",
        "mapeamento = {\n",
        "    'no': 0,\n",
        "    'yes': 1,\n",
        "    'Male': 0,\n",
        "    'Female': 1,\n",
        "    'mensal': 0,\n",
        "    'o': 0,\n",
        "    'High': 'high',\n",
        "    'Low': 'low',\n",
        "    'Medium': 'medium',\n",
        "    ' no': 0,\n",
        "    'normal ': 'normal'\n",
        "}\n",
        "\n",
        "colunas = ['Sexo','Diabetes_familiar','Pressão_alta','Fumante','Ingere_alcool','Medicamentos_regulares',\n",
        "           'Nível_pressão_sanguínea','Pre_diabetes','Diabetes']\n",
        "\n",
        "df_sem_nulos[colunas] = df_sem_nulos[colunas].replace(mapeamento)\n",
        "\n",
        "#Criar um DataFrame com as variáveis categóricas de df_sem_nulos transformadas em variáveis dummies e salvando em uma cópia\n",
        "df_dummies = pd.get_dummies(df_sem_nulos).copy()\n",
        "\n",
        "#Converter as colunas booleanas(True/False) para 1 ou 0.\n",
        "boolean_columns = [\n",
        "    'Idade_40-49',\n",
        "    'Idade_50-59',\n",
        "    'Idade_60 or older',\n",
        "    'Idade_less than 40',\n",
        "    'Ativo_fisicamente_less than half an hr',\n",
        "    'Ativo_fisicamente_more than half an hr',\n",
        "    'Ativo_fisicamente_none',\n",
        "    'Ativo_fisicamente_one hr or more',\n",
        "    'JunkFood_always',\n",
        "    'JunkFood_occasionally',\n",
        "    'JunkFood_often',\n",
        "    'JunkFood_very often',\n",
        "    'Stress_always',\n",
        "    'Stress_not at all',\n",
        "    'Stress_sometimes',\n",
        "    'Stress_very often',\n",
        "    'Nível_pressão_sanguínea_high',\n",
        "    'Nível_pressão_sanguínea_low',\n",
        "    'Nível_pressão_sanguínea_normal',\n",
        "    'Pre_diabetes_1',\n",
        "    'Pre_diabetes_0',\n",
        "    'Frequência_urinária_not much',\n",
        "    'Frequência_urinária_quite often'\n",
        "]\n",
        "\n",
        "df_dummies[boolean_columns] = df_dummies[boolean_columns].astype(int)\n",
        "\n",
        "#Verificando se restaram dados inconsistentes\n",
        "print(df_dummies.info())"
      ],
      "metadata": {
        "id": "Eplgq-3bpS1_",
        "colab": {
          "base_uri": "https://localhost:8080/"
        },
        "outputId": "bb0c3798-873c-4c11-9403-580ac0eab2d4"
      },
      "execution_count": 4,
      "outputs": [
        {
          "output_type": "stream",
          "name": "stdout",
          "text": [
            "<class 'pandas.core.frame.DataFrame'>\n",
            "RangeIndex: 299 entries, 0 to 298\n",
            "Data columns (total 34 columns):\n",
            " #   Column                                  Non-Null Count  Dtype  \n",
            "---  ------                                  --------------  -----  \n",
            " 0   Sexo                                    299 non-null    int64  \n",
            " 1   Diabetes_familiar                       299 non-null    int64  \n",
            " 2   Pressão_alta                            299 non-null    int64  \n",
            " 3   IMC                                     299 non-null    float64\n",
            " 4   Fumante                                 299 non-null    int64  \n",
            " 5   Ingere_alcool                           299 non-null    int64  \n",
            " 6   Horas_sono                              299 non-null    int64  \n",
            " 7   Sono_tranquilo                          299 non-null    int64  \n",
            " 8   Medicamentos_regulares                  299 non-null    int64  \n",
            " 9   Gradivez                                299 non-null    float64\n",
            " 10  Diabetes                                299 non-null    int64  \n",
            " 11  Idade_40-49                             299 non-null    int64  \n",
            " 12  Idade_50-59                             299 non-null    int64  \n",
            " 13  Idade_60 or older                       299 non-null    int64  \n",
            " 14  Idade_less than 40                      299 non-null    int64  \n",
            " 15  Ativo_fisicamente_less than half an hr  299 non-null    int64  \n",
            " 16  Ativo_fisicamente_more than half an hr  299 non-null    int64  \n",
            " 17  Ativo_fisicamente_none                  299 non-null    int64  \n",
            " 18  Ativo_fisicamente_one hr or more        299 non-null    int64  \n",
            " 19  JunkFood_always                         299 non-null    int64  \n",
            " 20  JunkFood_occasionally                   299 non-null    int64  \n",
            " 21  JunkFood_often                          299 non-null    int64  \n",
            " 22  JunkFood_very often                     299 non-null    int64  \n",
            " 23  Stress_always                           299 non-null    int64  \n",
            " 24  Stress_not at all                       299 non-null    int64  \n",
            " 25  Stress_sometimes                        299 non-null    int64  \n",
            " 26  Stress_very often                       299 non-null    int64  \n",
            " 27  Nível_pressão_sanguínea_high            299 non-null    int64  \n",
            " 28  Nível_pressão_sanguínea_low             299 non-null    int64  \n",
            " 29  Nível_pressão_sanguínea_normal          299 non-null    int64  \n",
            " 30  Pre_diabetes_1                          299 non-null    int64  \n",
            " 31  Pre_diabetes_0                          299 non-null    int64  \n",
            " 32  Frequência_urinária_not much            299 non-null    int64  \n",
            " 33  Frequência_urinária_quite often         299 non-null    int64  \n",
            "dtypes: float64(2), int64(32)\n",
            "memory usage: 79.5 KB\n",
            "None\n"
          ]
        },
        {
          "output_type": "stream",
          "name": "stderr",
          "text": [
            "<ipython-input-4-a2a930d554c0>:19: FutureWarning: Downcasting behavior in `replace` is deprecated and will be removed in a future version. To retain the old behavior, explicitly call `result.infer_objects(copy=False)`. To opt-in to the future behavior, set `pd.set_option('future.no_silent_downcasting', True)`\n",
            "  df_sem_nulos[colunas] = df_sem_nulos[colunas].replace(mapeamento)\n"
          ]
        }
      ]
    },
    {
      "cell_type": "code",
      "source": [
        "#Removendo Outliers da coluna IMC\n",
        "Q1 = df_dummies['IMC'].quantile(0.25)\n",
        "Q3 = df_dummies['IMC'].quantile(0.75)\n",
        "IQR = Q3-Q1\n",
        "limite_inferior = Q1 - 1.5*IQR\n",
        "limite_superior = Q3 + 1.5*IQR\n",
        "\n",
        "outliers_index = (df_dummies['IMC'] < limite_inferior) | (df_dummies['IMC'] > limite_superior)\n",
        "df_sem_outliers = df_dummies[~outliers_index]\n",
        "df_sem_outliers.reset_index(drop = True, inplace = True)"
      ],
      "metadata": {
        "id": "rpxZd_76pS4b"
      },
      "execution_count": 5,
      "outputs": []
    },
    {
      "cell_type": "markdown",
      "source": [
        "Explorando a correlação das variável Sono Tranquilo e Horas de Sono para o conjunto de dados"
      ],
      "metadata": {
        "id": "29B9oSMQZBNC"
      }
    },
    {
      "cell_type": "code",
      "source": [
        "# Definindo a variável dependente (y) e a variável independente (X)\n",
        "X = df_sem_outliers[['Sono_tranquilo']]  # Variável independente\n",
        "X = sm.add_constant(X)  # Adiciona uma constante para o intercepto\n",
        "y = df_sem_outliers['Diabetes']      # Variável dependente\n",
        "\n",
        "# Ajustando o modelo de regressão logística\n",
        "model = sm.Logit(y, X)\n",
        "result = model.fit()\n",
        "\n",
        "# Exibindo um resumo dos resultados\n",
        "print(result.summary())\n",
        "\n",
        "# Interpretando os coeficientes\n",
        "coef = result.params['Sono_tranquilo']\n",
        "p_value = result.pvalues['Sono_tranquilo']\n",
        "\n",
        "alpha = 0.05\n",
        "print(f'\\nCoeficiente para Sono_tranquilo: {coef}')\n",
        "print(f'Valor p: {p_value}')\n",
        "\n",
        "if p_value < alpha:\n",
        "    print('Rejeitamos a hipótese nula - Existe uma associação significativa entre as horas de sono tranquilo e a presença de diabetes.')\n",
        "else:\n",
        "    print('Não rejeitamos a hipótese nula - Não há evidências suficientes de uma associação significativa entre as horas de sono tranquiloz e a presença de diabetes.')\n",
        "\n",
        "\n",
        "# Definindo a variável dependente (y) e a variável independente (X)\n",
        "X = df_sem_outliers[['Horas_sono']]  # Variável independente\n",
        "X = sm.add_constant(X)  # Adiciona uma constante para o intercepto\n",
        "y = df_sem_outliers['Diabetes']      # Variável dependente\n",
        "\n",
        "# Ajustando o modelo de regressão logística\n",
        "model = sm.Logit(y, X)\n",
        "result = model.fit()\n",
        "\n",
        "# Exibindo um resumo dos resultados\n",
        "print(result.summary())\n",
        "\n",
        "# Interpretando os coeficientes\n",
        "coef = result.params['Horas_sono']\n",
        "p_value = result.pvalues['Horas_sono']\n",
        "\n",
        "alpha = 0.05\n",
        "print(f'\\nCoeficiente para Horas_sono: {coef}')\n",
        "print(f'Valor p: {p_value}')\n",
        "\n",
        "if p_value < alpha:\n",
        "    print('Rejeitamos a hipótese nula - Existe uma associação significativa entre as horas de sono  e a presença de diabetes.')\n",
        "else:\n",
        "    print('Não rejeitamos a hipótese nula - Não há evidências suficientes de uma associação significativa entre as horas de sono  e a presença de diabetes.')\n",
        "\n",
        "#Criando uma cópia do DataFrame que será utilizado para o modelo de Machine Learning\n",
        "df_limpo = df_sem_outliers.drop(['Horas_sono','Sono_tranquilo'], axis = 1).copy()\n",
        "\n"
      ],
      "metadata": {
        "colab": {
          "base_uri": "https://localhost:8080/"
        },
        "id": "ixVrGufZsIIs",
        "outputId": "79f3b764-c46c-4510-e147-6f1a8b6eb765"
      },
      "execution_count": 6,
      "outputs": [
        {
          "output_type": "stream",
          "name": "stdout",
          "text": [
            "Optimization terminated successfully.\n",
            "         Current function value: 0.613968\n",
            "         Iterations 5\n",
            "                           Logit Regression Results                           \n",
            "==============================================================================\n",
            "Dep. Variable:               Diabetes   No. Observations:                  296\n",
            "Model:                          Logit   Df Residuals:                      294\n",
            "Method:                           MLE   Df Model:                            1\n",
            "Date:                Wed, 27 Nov 2024   Pseudo R-squ.:               0.0004759\n",
            "Time:                        16:31:28   Log-Likelihood:                -181.73\n",
            "converged:                       True   LL-Null:                       -181.82\n",
            "Covariance Type:            nonrobust   LLR p-value:                    0.6774\n",
            "==================================================================================\n",
            "                     coef    std err          z      P>|z|      [0.025      0.975]\n",
            "----------------------------------------------------------------------------------\n",
            "const             -0.9833      0.395     -2.487      0.013      -1.758      -0.208\n",
            "Sono_tranquilo     0.0282      0.068      0.416      0.678      -0.105       0.161\n",
            "==================================================================================\n",
            "\n",
            "Coeficiente para Sono_tranquilo: 0.028247769806074036\n",
            "Valor p: 0.6775336584925367\n",
            "Não rejeitamos a hipótese nula - Não há evidências suficientes de uma associação significativa entre as horas de sono tranquiloz e a presença de diabetes.\n",
            "Optimization terminated successfully.\n",
            "         Current function value: 0.613196\n",
            "         Iterations 5\n",
            "                           Logit Regression Results                           \n",
            "==============================================================================\n",
            "Dep. Variable:               Diabetes   No. Observations:                  296\n",
            "Model:                          Logit   Df Residuals:                      294\n",
            "Method:                           MLE   Df Model:                            1\n",
            "Date:                Wed, 27 Nov 2024   Pseudo R-squ.:                0.001732\n",
            "Time:                        16:31:28   Log-Likelihood:                -181.51\n",
            "converged:                       True   LL-Null:                       -181.82\n",
            "Covariance Type:            nonrobust   LLR p-value:                    0.4274\n",
            "==============================================================================\n",
            "                 coef    std err          z      P>|z|      [0.025      0.975]\n",
            "------------------------------------------------------------------------------\n",
            "const         -0.2564      0.730     -0.351      0.726      -1.688       1.175\n",
            "Horas_sono    -0.0824      0.104     -0.792      0.428      -0.286       0.122\n",
            "==============================================================================\n",
            "\n",
            "Coeficiente para Horas_sono: -0.08239163678879123\n",
            "Valor p: 0.42837824560906557\n",
            "Não rejeitamos a hipótese nula - Não há evidências suficientes de uma associação significativa entre as horas de sono  e a presença de diabetes.\n"
          ]
        }
      ]
    },
    {
      "cell_type": "markdown",
      "source": [
        "Gerando modelos de Machine Learning"
      ],
      "metadata": {
        "id": "__F3IXUSaZ4u"
      }
    },
    {
      "cell_type": "code",
      "source": [
        "#Divisão entre treino e teste\n",
        "x = df_limpo.drop('Diabetes', axis = 1)\n",
        "y = df_limpo['Diabetes']\n",
        "\n",
        "x_treino, x_teste, y_treino, y_teste = train_test_split(x, y, stratify = y, random_state = 5, test_size = 0.25)\n",
        "\n",
        "#Utilizando o DummyClassifier como modelo de Based Line\n",
        "dummy = DummyClassifier()\n",
        "dummy.fit(x_treino, y_treino)\n",
        "\n",
        "#Árvore de Decisão\n",
        "arvore = DecisionTreeClassifier(max_depth = 3, random_state = 5)\n",
        "arvore.fit(x_treino, y_treino)\n",
        "\n",
        "#KNN\n",
        "normalizacao = MinMaxScaler() #normalizando os dados para utilizar o modelo\n",
        "x_treino_normalizado = normalizacao.fit_transform(x_treino)\n",
        "knn = KNeighborsClassifier()\n",
        "knn.fit(x_treino_normalizado, y_treino)\n",
        "x_teste_normalizado = normalizacao.transform(x_teste)\n",
        "\n",
        "#SVC\n",
        "SEED = 5\n",
        "np.random.seed(SEED)\n",
        "raw_treino_x, raw_teste_x, treino_y, teste_y = train_test_split(x, y, test_size = 0.25,\n",
        "                                                         stratify = y)\n",
        "#Ajustando a escala para o SVC\n",
        "scaler = StandardScaler()\n",
        "scaler.fit(raw_treino_x)\n",
        "treino_x = scaler.transform(raw_treino_x)\n",
        "teste_x = scaler.transform(raw_teste_x)\n",
        "\n",
        "modelo = SVC(gamma='auto')\n",
        "modelo.fit(treino_x, treino_y)\n",
        "previsoes = modelo.predict(teste_x)\n",
        "\n",
        "acuracia_svc = accuracy_score(teste_y, previsoes) * 100\n",
        "\n",
        "#Acurácia dos modelos treinados\n",
        "print(f'Acurácia Dummy: {dummy.score(x_teste, y_teste)}')\n",
        "print(f'Acurácia Árvore: {arvore.score(x_teste, y_teste)}')\n",
        "print(f'Acurácia KNN: {knn.score(x_teste_normalizado, y_teste)}')\n",
        "print(f'Acurácia SVC: {acuracia_svc}')\n"
      ],
      "metadata": {
        "colab": {
          "base_uri": "https://localhost:8080/"
        },
        "id": "XKD4NPHka8ep",
        "outputId": "df7b3f9b-7c71-468a-9603-7abddaf507a4"
      },
      "execution_count": 7,
      "outputs": [
        {
          "output_type": "stream",
          "name": "stdout",
          "text": [
            "Acurácia Dummy: 0.6891891891891891\n",
            "Acurácia Árvore: 0.8243243243243243\n",
            "Acurácia KNN: 0.7702702702702703\n",
            "Acurácia SVC: 86.48648648648648\n"
          ]
        }
      ]
    }
  ]
}